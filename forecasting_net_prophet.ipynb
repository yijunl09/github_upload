{
  "cells": [
    {
      "cell_type": "markdown",
      "metadata": {
        "id": "view-in-github",
        "colab_type": "text"
      },
      "source": [
        "<a href=\"https://colab.research.google.com/github/yijunl09/github_upload/blob/main/forecasting_net_prophet.ipynb\" target=\"_parent\"><img src=\"https://colab.research.google.com/assets/colab-badge.svg\" alt=\"Open In Colab\"/></a>"
      ]
    },
    {
      "cell_type": "markdown",
      "metadata": {
        "id": "_dGlqbAmpPoR"
      },
      "source": [
        "# Forecasting Net Prophet\n",
        "\n",
        "You’re a growth analyst at [MercadoLibre](http://investor.mercadolibre.com/investor-relations). With over 200 million users, MercadoLibre is the most popular e-commerce site in Latin America. You've been tasked with analyzing the company's financial and user data in clever ways to make the company grow. So, you want to find out if the ability to predict search traffic can translate into the ability to successfully trade the stock.\n",
        "\n",
        "Instructions\n",
        "\n",
        "This section divides the instructions for this Challenge into four steps and an optional fifth step, as follows:\n",
        "\n",
        "* Step 1: Find unusual patterns in hourly Google search traffic\n",
        "\n",
        "* Step 2: Mine the search traffic data for seasonality\n",
        "\n",
        "* Step 3: Relate the search traffic to stock price patterns\n",
        "\n",
        "* Step 4: Create a time series model with Prophet\n",
        "\n",
        "* Step 5 (optional): Forecast revenue by using time series models\n",
        "\n",
        "The following subsections detail these steps.\n",
        "\n",
        "## Step 1: Find Unusual Patterns in Hourly Google Search Traffic\n",
        "\n",
        "The data science manager asks if the Google search traffic for the company links to any financial events at the company. Or, does the search traffic data just present random noise? To answer this question, pick out any unusual patterns in the Google search data for the company, and connect them to the corporate financial events.\n",
        "\n",
        "To do so, complete the following steps:\n",
        "\n",
        "1. Read the search data into a DataFrame, and then slice the data to just the month of May 2020. (During this month, MercadoLibre released its quarterly financial results.) Use hvPlot to visualize the results. Do any unusual patterns exist?\n",
        "\n",
        "2. Calculate the total search traffic for the month, and then compare the value to the monthly median across all months. Did the Google search traffic increase during the month that MercadoLibre released its financial results?\n",
        "\n",
        "## Step 2: Mine the Search Traffic Data for Seasonality\n",
        "\n",
        "Marketing realizes that they can use the hourly search data, too. If they can track and predict interest in the company and its platform for any time of day, they can focus their marketing efforts around the times that have the most traffic. This will get a greater return on investment (ROI) from their marketing budget.\n",
        "\n",
        "To that end, you want to mine the search traffic data for predictable seasonal patterns of interest in the company. To do so, complete the following steps:\n",
        "\n",
        "1. Group the hourly search data to plot the average traffic by the day of the week (for example, Monday vs. Friday).\n",
        "\n",
        "2. Using hvPlot, visualize this traffic as a heatmap, referencing the `index.hour` as the x-axis and the `index.dayofweek` as the y-axis. Does any day-of-week effect that you observe concentrate in just a few hours of that day?\n",
        "\n",
        "3. Group the search data by the week of the year. Does the search traffic tend to increase during the winter holiday period (weeks 40 through 52)?\n",
        "\n",
        "## Step 3: Relate the Search Traffic to Stock Price Patterns\n",
        "\n",
        "You mention your work on the search traffic data during a meeting with people in the finance group at the company. They want to know if any relationship between the search data and the company stock price exists, and they ask if you can investigate.\n",
        "\n",
        "To do so, complete the following steps:\n",
        "\n",
        "1. Read in and plot the stock price data. Concatenate the stock price data to the search data in a single DataFrame.\n",
        "\n",
        "2. Market events emerged during the year of 2020 that many companies found difficult. But, after the initial shock to global financial markets, new customers and revenue increased for e-commerce platforms. Slice the data to just the first half of 2020 (`2020-01` to `2020-06` in the DataFrame), and then use hvPlot to plot the data. Do both time series indicate a common trend that’s consistent with this narrative?\n",
        "\n",
        "3. Create a new column in the DataFrame named “Lagged Search Trends” that offsets, or shifts, the search traffic by one hour. Create two additional columns:\n",
        "\n",
        "    * “Stock Volatility”, which holds an exponentially weighted four-hour rolling average of the company’s stock volatility\n",
        "\n",
        "    * “Hourly Stock Return”, which holds the percent change of the company's stock price on an hourly basis\n",
        "\n",
        "4. Review the time series correlation, and then answer the following question: Does a predictable relationship exist between the lagged search traffic and the stock volatility or between the lagged search traffic and the stock price returns?\n",
        "\n",
        "## Step 4: Create a Time Series Model with Prophet\n",
        "\n",
        "Now, you need to produce a time series model that analyzes and forecasts patterns in the hourly search data. To do so, complete the following steps:\n",
        "\n",
        "1. Set up the Google search data for a Prophet forecasting model.\n",
        "\n",
        "2. After estimating the model, plot the forecast. How's the near-term forecast for the popularity of MercadoLibre?\n",
        "\n",
        "3. Plot the individual time series components of the model to answer the following questions:\n",
        "\n",
        "    * What time of day exhibits the greatest popularity?\n",
        "\n",
        "    * Which day of the week gets the most search traffic?\n",
        "\n",
        "    * What's the lowest point for search traffic in the calendar year?\n",
        "\n",
        "## Step 5 (Optional): Forecast Revenue by Using Time Series Models\n",
        "\n",
        "A few weeks after your initial analysis, the finance group follows up to find out if you can help them solve a different problem. Your fame as a growth analyst in the company continues to grow!\n",
        "\n",
        "Specifically, the finance group wants a forecast of the total sales for the next quarter. This will dramatically increase their ability to plan budgets and to help guide expectations for the company investors.\n",
        "\n",
        "To do so, complete the following steps:\n",
        "\n",
        "1. Read in the daily historical sales (that is, revenue) figures, and then apply a Prophet model to the data.\n",
        "\n",
        "2. Interpret the model output to identify any seasonal patterns in the company's revenue. For example, what are the peak revenue days? (Mondays? Fridays? Something else?)\n",
        "\n",
        "3. Produce a sales forecast for the finance group. Give them a number for the expected total sales in the next quarter. Include the best- and worst-case scenarios to help them make better plans.\n"
      ]
    },
    {
      "cell_type": "markdown",
      "metadata": {
        "id": "qiUEuTFMpPoV"
      },
      "source": [
        "## Install and import the required libraries and dependencies"
      ]
    },
    {
      "cell_type": "code",
      "execution_count": null,
      "metadata": {
        "id": "TP-fJMP7pPoV",
        "outputId": "3a0d1085-4076-460c-b592-79af7ceac264"
      },
      "outputs": [
        {
          "name": "stdout",
          "output_type": "stream",
          "text": [
            "Requirement already satisfied: pystan in c:\\users\\alfred\\anaconda3\\envs\\dev\\lib\\site-packages (2.19.1.1)\n",
            "Requirement already satisfied: Cython!=0.25.1,>=0.22 in c:\\users\\alfred\\anaconda3\\envs\\dev\\lib\\site-packages (from pystan) (0.29.24)\n",
            "Requirement already satisfied: numpy>=1.7 in c:\\users\\alfred\\anaconda3\\envs\\dev\\lib\\site-packages (from pystan) (1.20.3)\n"
          ]
        },
        {
          "name": "stderr",
          "output_type": "stream",
          "text": [
            "WARNING: Ignoring invalid distribution -ywin32 (c:\\users\\alfred\\anaconda3\\envs\\dev\\lib\\site-packages)\n",
            "WARNING: Ignoring invalid distribution -ywin32 (c:\\users\\alfred\\anaconda3\\envs\\dev\\lib\\site-packages)\n",
            "WARNING: Ignoring invalid distribution -ywin32 (c:\\users\\alfred\\anaconda3\\envs\\dev\\lib\\site-packages)\n",
            "WARNING: Ignoring invalid distribution -ywin32 (c:\\users\\alfred\\anaconda3\\envs\\dev\\lib\\site-packages)\n",
            "WARNING: Ignoring invalid distribution -ywin32 (c:\\users\\alfred\\anaconda3\\envs\\dev\\lib\\site-packages)\n",
            "WARNING: Ignoring invalid distribution -ywin32 (c:\\users\\alfred\\anaconda3\\envs\\dev\\lib\\site-packages)\n"
          ]
        },
        {
          "name": "stdout",
          "output_type": "stream",
          "text": [
            "Collecting fbprophet\n",
            "  Using cached fbprophet-0.7.1.tar.gz (64 kB)\n",
            "Requirement already satisfied: Cython>=0.22 in c:\\users\\alfred\\anaconda3\\envs\\dev\\lib\\site-packages (from fbprophet) (0.29.24)\n",
            "Requirement already satisfied: cmdstanpy==0.9.5 in c:\\users\\alfred\\anaconda3\\envs\\dev\\lib\\site-packages (from fbprophet) (0.9.5)\n",
            "Requirement already satisfied: pystan>=2.14 in c:\\users\\alfred\\anaconda3\\envs\\dev\\lib\\site-packages (from fbprophet) (2.19.1.1)\n",
            "Requirement already satisfied: numpy>=1.15.4 in c:\\users\\alfred\\anaconda3\\envs\\dev\\lib\\site-packages (from fbprophet) (1.20.3)\n",
            "Requirement already satisfied: pandas>=1.0.4 in c:\\users\\alfred\\anaconda3\\envs\\dev\\lib\\site-packages (from fbprophet) (1.3.4)\n",
            "Requirement already satisfied: matplotlib>=2.0.0 in c:\\users\\alfred\\anaconda3\\envs\\dev\\lib\\site-packages (from fbprophet) (3.4.3)\n",
            "Requirement already satisfied: LunarCalendar>=0.0.9 in c:\\users\\alfred\\anaconda3\\envs\\dev\\lib\\site-packages (from fbprophet) (0.0.9)\n",
            "Requirement already satisfied: convertdate>=2.1.2 in c:\\users\\alfred\\anaconda3\\envs\\dev\\lib\\site-packages (from fbprophet) (2.4.0)\n",
            "Requirement already satisfied: holidays>=0.10.2 in c:\\users\\alfred\\anaconda3\\envs\\dev\\lib\\site-packages (from fbprophet) (0.13)\n",
            "Requirement already satisfied: setuptools-git>=1.2 in c:\\users\\alfred\\anaconda3\\envs\\dev\\lib\\site-packages (from fbprophet) (1.2)\n",
            "Requirement already satisfied: python-dateutil>=2.8.0 in c:\\users\\alfred\\anaconda3\\envs\\dev\\lib\\site-packages (from fbprophet) (2.8.2)\n",
            "Requirement already satisfied: tqdm>=4.36.1 in c:\\users\\alfred\\anaconda3\\envs\\dev\\lib\\site-packages (from fbprophet) (4.62.3)\n",
            "Requirement already satisfied: pymeeus<=1,>=0.3.13 in c:\\users\\alfred\\anaconda3\\envs\\dev\\lib\\site-packages (from convertdate>=2.1.2->fbprophet) (0.5.11)\n",
            "Requirement already satisfied: korean-lunar-calendar in c:\\users\\alfred\\anaconda3\\envs\\dev\\lib\\site-packages (from holidays>=0.10.2->fbprophet) (0.2.1)\n",
            "Requirement already satisfied: hijri-converter in c:\\users\\alfred\\anaconda3\\envs\\dev\\lib\\site-packages (from holidays>=0.10.2->fbprophet) (2.2.4)\n",
            "Requirement already satisfied: ephem>=3.7.5.3 in c:\\users\\alfred\\anaconda3\\envs\\dev\\lib\\site-packages (from LunarCalendar>=0.0.9->fbprophet) (4.1.3)\n",
            "Requirement already satisfied: pytz in c:\\users\\alfred\\anaconda3\\envs\\dev\\lib\\site-packages (from LunarCalendar>=0.0.9->fbprophet) (2021.3)\n",
            "Requirement already satisfied: pyparsing>=2.2.1 in c:\\users\\alfred\\anaconda3\\envs\\dev\\lib\\site-packages (from matplotlib>=2.0.0->fbprophet) (3.0.4)\n",
            "Requirement already satisfied: cycler>=0.10 in c:\\users\\alfred\\anaconda3\\envs\\dev\\lib\\site-packages (from matplotlib>=2.0.0->fbprophet) (0.10.0)\n",
            "Requirement already satisfied: pillow>=6.2.0 in c:\\users\\alfred\\anaconda3\\envs\\dev\\lib\\site-packages (from matplotlib>=2.0.0->fbprophet) (8.4.0)\n",
            "Requirement already satisfied: kiwisolver>=1.0.1 in c:\\users\\alfred\\anaconda3\\envs\\dev\\lib\\site-packages (from matplotlib>=2.0.0->fbprophet) (1.3.1)\n",
            "Requirement already satisfied: six in c:\\users\\alfred\\anaconda3\\envs\\dev\\lib\\site-packages (from cycler>=0.10->matplotlib>=2.0.0->fbprophet) (1.16.0)\n",
            "Requirement already satisfied: colorama in c:\\users\\alfred\\anaconda3\\envs\\dev\\lib\\site-packages (from tqdm>=4.36.1->fbprophet) (0.4.4)\n",
            "Building wheels for collected packages: fbprophet\n",
            "  Building wheel for fbprophet (setup.py): started\n",
            "  Building wheel for fbprophet (setup.py): finished with status 'error'\n",
            "  Running setup.py clean for fbprophet\n",
            "Failed to build fbprophet\n",
            "Installing collected packages: fbprophet\n",
            "    Running setup.py install for fbprophet: started\n",
            "    Running setup.py install for fbprophet: finished with status 'error'\n"
          ]
        },
        {
          "name": "stderr",
          "output_type": "stream",
          "text": [
            "WARNING: Ignoring invalid distribution -ywin32 (c:\\users\\alfred\\anaconda3\\envs\\dev\\lib\\site-packages)\n",
            "WARNING: Ignoring invalid distribution -ywin32 (c:\\users\\alfred\\anaconda3\\envs\\dev\\lib\\site-packages)\n",
            "  ERROR: Command errored out with exit status 1:\n",
            "   command: 'C:\\Users\\Alfred\\anaconda3\\envs\\dev\\python.exe' -u -c 'import io, os, sys, setuptools, tokenize; sys.argv[0] = '\"'\"'C:\\\\Users\\\\Alfred\\\\AppData\\\\Local\\\\Temp\\\\pip-install-tdh7ed8r\\\\fbprophet_7550700aac104308b7fba235513846de\\\\setup.py'\"'\"'; __file__='\"'\"'C:\\\\Users\\\\Alfred\\\\AppData\\\\Local\\\\Temp\\\\pip-install-tdh7ed8r\\\\fbprophet_7550700aac104308b7fba235513846de\\\\setup.py'\"'\"';f = getattr(tokenize, '\"'\"'open'\"'\"', open)(__file__) if os.path.exists(__file__) else io.StringIO('\"'\"'from setuptools import setup; setup()'\"'\"');code = f.read().replace('\"'\"'\\r\\n'\"'\"', '\"'\"'\\n'\"'\"');f.close();exec(compile(code, __file__, '\"'\"'exec'\"'\"'))' bdist_wheel -d 'C:\\Users\\Alfred\\AppData\\Local\\Temp\\pip-wheel-8vk582eg'\n",
            "       cwd: C:\\Users\\Alfred\\AppData\\Local\\Temp\\pip-install-tdh7ed8r\\fbprophet_7550700aac104308b7fba235513846de\\\n",
            "  Complete output (11 lines):\n",
            "  running bdist_wheel\n",
            "  running build\n",
            "  running build_py\n",
            "  creating build\n",
            "  creating build\\lib\n",
            "  creating build\\lib\\fbprophet\n",
            "  creating build\\lib\\fbprophet\\stan_model\n",
            "  Importing plotly failed. Interactive plots will not work.\n",
            "  INFO:pystan:COMPILING THE C++ CODE FOR MODEL anon_model_f5236004a3fd5b8429270d00efcc0cf9 NOW.\n",
            "  WARNING:pystan:MSVC compiler is not supported\n",
            "  error: Microsoft Visual C++ 14.0 or greater is required. Get it with \"Microsoft C++ Build Tools\": https://visualstudio.microsoft.com/visual-cpp-build-tools/\n",
            "  ----------------------------------------\n",
            "  ERROR: Failed building wheel for fbprophet\n",
            "WARNING: Ignoring invalid distribution -ywin32 (c:\\users\\alfred\\anaconda3\\envs\\dev\\lib\\site-packages)\n",
            "    ERROR: Command errored out with exit status 1:\n",
            "     command: 'C:\\Users\\Alfred\\anaconda3\\envs\\dev\\python.exe' -u -c 'import io, os, sys, setuptools, tokenize; sys.argv[0] = '\"'\"'C:\\\\Users\\\\Alfred\\\\AppData\\\\Local\\\\Temp\\\\pip-install-tdh7ed8r\\\\fbprophet_7550700aac104308b7fba235513846de\\\\setup.py'\"'\"'; __file__='\"'\"'C:\\\\Users\\\\Alfred\\\\AppData\\\\Local\\\\Temp\\\\pip-install-tdh7ed8r\\\\fbprophet_7550700aac104308b7fba235513846de\\\\setup.py'\"'\"';f = getattr(tokenize, '\"'\"'open'\"'\"', open)(__file__) if os.path.exists(__file__) else io.StringIO('\"'\"'from setuptools import setup; setup()'\"'\"');code = f.read().replace('\"'\"'\\r\\n'\"'\"', '\"'\"'\\n'\"'\"');f.close();exec(compile(code, __file__, '\"'\"'exec'\"'\"'))' install --record 'C:\\Users\\Alfred\\AppData\\Local\\Temp\\pip-record-g6gx48_5\\install-record.txt' --single-version-externally-managed --compile --install-headers 'C:\\Users\\Alfred\\anaconda3\\envs\\dev\\Include\\fbprophet'\n",
            "         cwd: C:\\Users\\Alfred\\AppData\\Local\\Temp\\pip-install-tdh7ed8r\\fbprophet_7550700aac104308b7fba235513846de\\\n",
            "    Complete output (11 lines):\n",
            "    running install\n",
            "    running build\n",
            "    running build_py\n",
            "    creating build\n",
            "    creating build\\lib\n",
            "    creating build\\lib\\fbprophet\n",
            "    creating build\\lib\\fbprophet\\stan_model\n",
            "    Importing plotly failed. Interactive plots will not work.\n",
            "    INFO:pystan:COMPILING THE C++ CODE FOR MODEL anon_model_f5236004a3fd5b8429270d00efcc0cf9 NOW.\n",
            "    WARNING:pystan:MSVC compiler is not supported\n",
            "    error: Microsoft Visual C++ 14.0 or greater is required. Get it with \"Microsoft C++ Build Tools\": https://visualstudio.microsoft.com/visual-cpp-build-tools/\n",
            "    ----------------------------------------\n",
            "ERROR: Command errored out with exit status 1: 'C:\\Users\\Alfred\\anaconda3\\envs\\dev\\python.exe' -u -c 'import io, os, sys, setuptools, tokenize; sys.argv[0] = '\"'\"'C:\\\\Users\\\\Alfred\\\\AppData\\\\Local\\\\Temp\\\\pip-install-tdh7ed8r\\\\fbprophet_7550700aac104308b7fba235513846de\\\\setup.py'\"'\"'; __file__='\"'\"'C:\\\\Users\\\\Alfred\\\\AppData\\\\Local\\\\Temp\\\\pip-install-tdh7ed8r\\\\fbprophet_7550700aac104308b7fba235513846de\\\\setup.py'\"'\"';f = getattr(tokenize, '\"'\"'open'\"'\"', open)(__file__) if os.path.exists(__file__) else io.StringIO('\"'\"'from setuptools import setup; setup()'\"'\"');code = f.read().replace('\"'\"'\\r\\n'\"'\"', '\"'\"'\\n'\"'\"');f.close();exec(compile(code, __file__, '\"'\"'exec'\"'\"'))' install --record 'C:\\Users\\Alfred\\AppData\\Local\\Temp\\pip-record-g6gx48_5\\install-record.txt' --single-version-externally-managed --compile --install-headers 'C:\\Users\\Alfred\\anaconda3\\envs\\dev\\Include\\fbprophet' Check the logs for full command output.\n",
            "WARNING: Ignoring invalid distribution -ywin32 (c:\\users\\alfred\\anaconda3\\envs\\dev\\lib\\site-packages)\n",
            "WARNING: Ignoring invalid distribution -ywin32 (c:\\users\\alfred\\anaconda3\\envs\\dev\\lib\\site-packages)\n",
            "WARNING: Ignoring invalid distribution -ywin32 (c:\\users\\alfred\\anaconda3\\envs\\dev\\lib\\site-packages)\n"
          ]
        },
        {
          "name": "stdout",
          "output_type": "stream",
          "text": [
            "Requirement already satisfied: hvplot in c:\\users\\alfred\\anaconda3\\envs\\dev\\lib\\site-packages (0.7.3)\n",
            "Requirement already satisfied: bokeh>=1.0.0 in c:\\users\\alfred\\anaconda3\\envs\\dev\\lib\\site-packages (from hvplot) (2.4.1)\n",
            "Requirement already satisfied: colorcet>=2 in c:\\users\\alfred\\anaconda3\\envs\\dev\\lib\\site-packages (from hvplot) (3.0.0)\n",
            "Requirement already satisfied: holoviews>=1.11.0 in c:\\users\\alfred\\anaconda3\\envs\\dev\\lib\\site-packages (from hvplot) (1.14.8)\n",
            "Requirement already satisfied: pandas in c:\\users\\alfred\\anaconda3\\envs\\dev\\lib\\site-packages (from hvplot) (1.3.4)\n",
            "Requirement already satisfied: numpy>=1.15 in c:\\users\\alfred\\anaconda3\\envs\\dev\\lib\\site-packages (from hvplot) (1.20.3)\n",
            "Requirement already satisfied: PyYAML>=3.10 in c:\\users\\alfred\\anaconda3\\envs\\dev\\lib\\site-packages (from bokeh>=1.0.0->hvplot) (6.0)\n",
            "Requirement already satisfied: tornado>=5.1 in c:\\users\\alfred\\anaconda3\\envs\\dev\\lib\\site-packages (from bokeh>=1.0.0->hvplot) (6.1)\n",
            "Requirement already satisfied: packaging>=16.8 in c:\\users\\alfred\\anaconda3\\envs\\dev\\lib\\site-packages (from bokeh>=1.0.0->hvplot) (21.0)\n",
            "Requirement already satisfied: typing-extensions>=3.10.0 in c:\\users\\alfred\\anaconda3\\envs\\dev\\lib\\site-packages (from bokeh>=1.0.0->hvplot) (4.1.1)\n",
            "Requirement already satisfied: pillow>=7.1.0 in c:\\users\\alfred\\anaconda3\\envs\\dev\\lib\\site-packages (from bokeh>=1.0.0->hvplot) (8.4.0)\n",
            "Requirement already satisfied: Jinja2>=2.9 in c:\\users\\alfred\\anaconda3\\envs\\dev\\lib\\site-packages (from bokeh>=1.0.0->hvplot) (2.11.3)\n",
            "Requirement already satisfied: param>=1.7.0 in c:\\users\\alfred\\anaconda3\\envs\\dev\\lib\\site-packages (from colorcet>=2->hvplot) (1.12.1)\n",
            "Requirement already satisfied: pyct>=0.4.4 in c:\\users\\alfred\\anaconda3\\envs\\dev\\lib\\site-packages (from colorcet>=2->hvplot) (0.4.8)\n",
            "Requirement already satisfied: pyviz_comms>=0.7.4 in c:\\users\\alfred\\anaconda3\\envs\\dev\\lib\\site-packages (from holoviews>=1.11.0->hvplot) (2.2.0)\n",
            "Requirement already satisfied: panel>=0.8.0 in c:\\users\\alfred\\anaconda3\\envs\\dev\\lib\\site-packages (from holoviews>=1.11.0->hvplot) (0.13.0)\n",
            "Requirement already satisfied: MarkupSafe>=0.23 in c:\\users\\alfred\\anaconda3\\envs\\dev\\lib\\site-packages (from Jinja2>=2.9->bokeh>=1.0.0->hvplot) (1.1.1)\n",
            "Requirement already satisfied: pyparsing>=2.0.2 in c:\\users\\alfred\\anaconda3\\envs\\dev\\lib\\site-packages (from packaging>=16.8->bokeh>=1.0.0->hvplot) (3.0.4)\n",
            "Requirement already satisfied: python-dateutil>=2.7.3 in c:\\users\\alfred\\anaconda3\\envs\\dev\\lib\\site-packages (from pandas->hvplot) (2.8.2)\n",
            "Requirement already satisfied: pytz>=2017.3 in c:\\users\\alfred\\anaconda3\\envs\\dev\\lib\\site-packages (from pandas->hvplot) (2021.3)\n",
            "Requirement already satisfied: markdown in c:\\users\\alfred\\anaconda3\\envs\\dev\\lib\\site-packages (from panel>=0.8.0->holoviews>=1.11.0->hvplot) (3.3.4)\n",
            "Requirement already satisfied: requests in c:\\users\\alfred\\anaconda3\\envs\\dev\\lib\\site-packages (from panel>=0.8.0->holoviews>=1.11.0->hvplot) (2.26.0)\n",
            "Requirement already satisfied: tqdm>=4.48.0 in c:\\users\\alfred\\anaconda3\\envs\\dev\\lib\\site-packages (from panel>=0.8.0->holoviews>=1.11.0->hvplot) (4.62.3)\n",
            "Requirement already satisfied: bleach in c:\\users\\alfred\\anaconda3\\envs\\dev\\lib\\site-packages (from panel>=0.8.0->holoviews>=1.11.0->hvplot) (4.0.0)\n",
            "Requirement already satisfied: six>=1.5 in c:\\users\\alfred\\anaconda3\\envs\\dev\\lib\\site-packages (from python-dateutil>=2.7.3->pandas->hvplot) (1.16.0)\n",
            "Requirement already satisfied: colorama in c:\\users\\alfred\\anaconda3\\envs\\dev\\lib\\site-packages (from tqdm>=4.48.0->panel>=0.8.0->holoviews>=1.11.0->hvplot) (0.4.4)\n",
            "Requirement already satisfied: webencodings in c:\\users\\alfred\\anaconda3\\envs\\dev\\lib\\site-packages (from bleach->panel>=0.8.0->holoviews>=1.11.0->hvplot) (0.5.1)\n",
            "Requirement already satisfied: importlib-metadata in c:\\users\\alfred\\anaconda3\\envs\\dev\\lib\\site-packages (from markdown->panel>=0.8.0->holoviews>=1.11.0->hvplot) (4.8.1)\n",
            "Requirement already satisfied: zipp>=0.5 in c:\\users\\alfred\\anaconda3\\envs\\dev\\lib\\site-packages (from importlib-metadata->markdown->panel>=0.8.0->holoviews>=1.11.0->hvplot) (3.8.0)\n",
            "Requirement already satisfied: charset-normalizer~=2.0.0 in c:\\users\\alfred\\anaconda3\\envs\\dev\\lib\\site-packages (from requests->panel>=0.8.0->holoviews>=1.11.0->hvplot) (2.0.4)\n",
            "Requirement already satisfied: urllib3<1.27,>=1.21.1 in c:\\users\\alfred\\anaconda3\\envs\\dev\\lib\\site-packages (from requests->panel>=0.8.0->holoviews>=1.11.0->hvplot) (1.26.7)\n",
            "Requirement already satisfied: idna<4,>=2.5 in c:\\users\\alfred\\anaconda3\\envs\\dev\\lib\\site-packages (from requests->panel>=0.8.0->holoviews>=1.11.0->hvplot) (3.2)\n",
            "Requirement already satisfied: certifi>=2017.4.17 in c:\\users\\alfred\\anaconda3\\envs\\dev\\lib\\site-packages (from requests->panel>=0.8.0->holoviews>=1.11.0->hvplot) (2022.5.18.1)\n"
          ]
        },
        {
          "name": "stderr",
          "output_type": "stream",
          "text": [
            "WARNING: Ignoring invalid distribution -ywin32 (c:\\users\\alfred\\anaconda3\\envs\\dev\\lib\\site-packages)\n",
            "WARNING: Ignoring invalid distribution -ywin32 (c:\\users\\alfred\\anaconda3\\envs\\dev\\lib\\site-packages)\n",
            "WARNING: Ignoring invalid distribution -ywin32 (c:\\users\\alfred\\anaconda3\\envs\\dev\\lib\\site-packages)\n",
            "WARNING: Ignoring invalid distribution -ywin32 (c:\\users\\alfred\\anaconda3\\envs\\dev\\lib\\site-packages)\n",
            "WARNING: Ignoring invalid distribution -ywin32 (c:\\users\\alfred\\anaconda3\\envs\\dev\\lib\\site-packages)\n",
            "WARNING: Ignoring invalid distribution -ywin32 (c:\\users\\alfred\\anaconda3\\envs\\dev\\lib\\site-packages)\n"
          ]
        },
        {
          "name": "stdout",
          "output_type": "stream",
          "text": [
            "Requirement already satisfied: holoviews in c:\\users\\alfred\\anaconda3\\envs\\dev\\lib\\site-packages (1.14.8)\n",
            "Requirement already satisfied: param<2.0,>=1.9.3 in c:\\users\\alfred\\anaconda3\\envs\\dev\\lib\\site-packages (from holoviews) (1.12.1)\n",
            "Requirement already satisfied: numpy>=1.0 in c:\\users\\alfred\\anaconda3\\envs\\dev\\lib\\site-packages (from holoviews) (1.20.3)\n",
            "Requirement already satisfied: pyviz_comms>=0.7.4 in c:\\users\\alfred\\anaconda3\\envs\\dev\\lib\\site-packages (from holoviews) (2.2.0)\n",
            "Requirement already satisfied: panel>=0.8.0 in c:\\users\\alfred\\anaconda3\\envs\\dev\\lib\\site-packages (from holoviews) (0.13.0)\n",
            "Requirement already satisfied: colorcet in c:\\users\\alfred\\anaconda3\\envs\\dev\\lib\\site-packages (from holoviews) (3.0.0)\n",
            "Requirement already satisfied: packaging in c:\\users\\alfred\\anaconda3\\envs\\dev\\lib\\site-packages (from holoviews) (21.0)\n",
            "Requirement already satisfied: pandas>=0.20.0 in c:\\users\\alfred\\anaconda3\\envs\\dev\\lib\\site-packages (from holoviews) (1.3.4)\n",
            "Requirement already satisfied: pytz>=2017.3 in c:\\users\\alfred\\anaconda3\\envs\\dev\\lib\\site-packages (from pandas>=0.20.0->holoviews) (2021.3)\n",
            "Requirement already satisfied: python-dateutil>=2.7.3 in c:\\users\\alfred\\anaconda3\\envs\\dev\\lib\\site-packages (from pandas>=0.20.0->holoviews) (2.8.2)\n",
            "Requirement already satisfied: bokeh<2.5.0,>=2.4.0 in c:\\users\\alfred\\anaconda3\\envs\\dev\\lib\\site-packages (from panel>=0.8.0->holoviews) (2.4.1)\n",
            "Requirement already satisfied: markdown in c:\\users\\alfred\\anaconda3\\envs\\dev\\lib\\site-packages (from panel>=0.8.0->holoviews) (3.3.4)\n",
            "Requirement already satisfied: requests in c:\\users\\alfred\\anaconda3\\envs\\dev\\lib\\site-packages (from panel>=0.8.0->holoviews) (2.26.0)\n",
            "Requirement already satisfied: tqdm>=4.48.0 in c:\\users\\alfred\\anaconda3\\envs\\dev\\lib\\site-packages (from panel>=0.8.0->holoviews) (4.62.3)\n",
            "Requirement already satisfied: pyct>=0.4.4 in c:\\users\\alfred\\anaconda3\\envs\\dev\\lib\\site-packages (from panel>=0.8.0->holoviews) (0.4.8)\n",
            "Requirement already satisfied: bleach in c:\\users\\alfred\\anaconda3\\envs\\dev\\lib\\site-packages (from panel>=0.8.0->holoviews) (4.0.0)\n",
            "Requirement already satisfied: Jinja2>=2.9 in c:\\users\\alfred\\anaconda3\\envs\\dev\\lib\\site-packages (from bokeh<2.5.0,>=2.4.0->panel>=0.8.0->holoviews) (2.11.3)\n",
            "Requirement already satisfied: typing-extensions>=3.10.0 in c:\\users\\alfred\\anaconda3\\envs\\dev\\lib\\site-packages (from bokeh<2.5.0,>=2.4.0->panel>=0.8.0->holoviews) (4.1.1)\n",
            "Requirement already satisfied: tornado>=5.1 in c:\\users\\alfred\\anaconda3\\envs\\dev\\lib\\site-packages (from bokeh<2.5.0,>=2.4.0->panel>=0.8.0->holoviews) (6.1)\n",
            "Requirement already satisfied: pillow>=7.1.0 in c:\\users\\alfred\\anaconda3\\envs\\dev\\lib\\site-packages (from bokeh<2.5.0,>=2.4.0->panel>=0.8.0->holoviews) (8.4.0)\n",
            "Requirement already satisfied: PyYAML>=3.10 in c:\\users\\alfred\\anaconda3\\envs\\dev\\lib\\site-packages (from bokeh<2.5.0,>=2.4.0->panel>=0.8.0->holoviews) (6.0)\n",
            "Requirement already satisfied: MarkupSafe>=0.23 in c:\\users\\alfred\\anaconda3\\envs\\dev\\lib\\site-packages (from Jinja2>=2.9->bokeh<2.5.0,>=2.4.0->panel>=0.8.0->holoviews) (1.1.1)\n",
            "Requirement already satisfied: pyparsing>=2.0.2 in c:\\users\\alfred\\anaconda3\\envs\\dev\\lib\\site-packages (from packaging->holoviews) (3.0.4)\n",
            "Requirement already satisfied: six>=1.5 in c:\\users\\alfred\\anaconda3\\envs\\dev\\lib\\site-packages (from python-dateutil>=2.7.3->pandas>=0.20.0->holoviews) (1.16.0)\n",
            "Requirement already satisfied: colorama in c:\\users\\alfred\\anaconda3\\envs\\dev\\lib\\site-packages (from tqdm>=4.48.0->panel>=0.8.0->holoviews) (0.4.4)\n",
            "Requirement already satisfied: webencodings in c:\\users\\alfred\\anaconda3\\envs\\dev\\lib\\site-packages (from bleach->panel>=0.8.0->holoviews) (0.5.1)\n",
            "Requirement already satisfied: importlib-metadata in c:\\users\\alfred\\anaconda3\\envs\\dev\\lib\\site-packages (from markdown->panel>=0.8.0->holoviews) (4.8.1)\n",
            "Requirement already satisfied: zipp>=0.5 in c:\\users\\alfred\\anaconda3\\envs\\dev\\lib\\site-packages (from importlib-metadata->markdown->panel>=0.8.0->holoviews) (3.8.0)\n",
            "Requirement already satisfied: charset-normalizer~=2.0.0 in c:\\users\\alfred\\anaconda3\\envs\\dev\\lib\\site-packages (from requests->panel>=0.8.0->holoviews) (2.0.4)\n",
            "Requirement already satisfied: urllib3<1.27,>=1.21.1 in c:\\users\\alfred\\anaconda3\\envs\\dev\\lib\\site-packages (from requests->panel>=0.8.0->holoviews) (1.26.7)\n",
            "Requirement already satisfied: certifi>=2017.4.17 in c:\\users\\alfred\\anaconda3\\envs\\dev\\lib\\site-packages (from requests->panel>=0.8.0->holoviews) (2022.5.18.1)\n",
            "Requirement already satisfied: idna<4,>=2.5 in c:\\users\\alfred\\anaconda3\\envs\\dev\\lib\\site-packages (from requests->panel>=0.8.0->holoviews) (3.2)\n"
          ]
        },
        {
          "name": "stderr",
          "output_type": "stream",
          "text": [
            "WARNING: Ignoring invalid distribution -ywin32 (c:\\users\\alfred\\anaconda3\\envs\\dev\\lib\\site-packages)\n",
            "WARNING: Ignoring invalid distribution -ywin32 (c:\\users\\alfred\\anaconda3\\envs\\dev\\lib\\site-packages)\n",
            "WARNING: Ignoring invalid distribution -ywin32 (c:\\users\\alfred\\anaconda3\\envs\\dev\\lib\\site-packages)\n",
            "WARNING: Ignoring invalid distribution -ywin32 (c:\\users\\alfred\\anaconda3\\envs\\dev\\lib\\site-packages)\n",
            "WARNING: Ignoring invalid distribution -ywin32 (c:\\users\\alfred\\anaconda3\\envs\\dev\\lib\\site-packages)\n",
            "WARNING: Ignoring invalid distribution -ywin32 (c:\\users\\alfred\\anaconda3\\envs\\dev\\lib\\site-packages)\n"
          ]
        }
      ],
      "source": [
        "# Install the required libraries\n",
        "!pip install pystan\n",
        "!pip install fbprophet\n",
        "!pip install hvplot\n",
        "!pip install holoviews"
      ]
    },
    {
      "cell_type": "code",
      "execution_count": null,
      "metadata": {
        "id": "hD7UGr5VpPoX",
        "outputId": "72cb003c-8e46-4e7b-9609-ddc6d3292c22"
      },
      "outputs": [
        {
          "ename": "ModuleNotFoundError",
          "evalue": "No module named 'fbprophet'",
          "output_type": "error",
          "traceback": [
            "\u001b[1;31m---------------------------------------------------------------------------\u001b[0m",
            "\u001b[1;31mModuleNotFoundError\u001b[0m                       Traceback (most recent call last)",
            "\u001b[1;32m~\\AppData\\Local\\Temp/ipykernel_11544/1605780709.py\u001b[0m in \u001b[0;36m<module>\u001b[1;34m\u001b[0m\n\u001b[0;32m      2\u001b[0m \u001b[1;32mimport\u001b[0m \u001b[0mpandas\u001b[0m \u001b[1;32mas\u001b[0m \u001b[0mpd\u001b[0m\u001b[1;33m\u001b[0m\u001b[1;33m\u001b[0m\u001b[0m\n\u001b[0;32m      3\u001b[0m \u001b[1;32mimport\u001b[0m \u001b[0mholoviews\u001b[0m \u001b[1;32mas\u001b[0m \u001b[0mhv\u001b[0m\u001b[1;33m\u001b[0m\u001b[1;33m\u001b[0m\u001b[0m\n\u001b[1;32m----> 4\u001b[1;33m \u001b[1;32mfrom\u001b[0m \u001b[0mfbprophet\u001b[0m \u001b[1;32mimport\u001b[0m \u001b[0mProphet\u001b[0m\u001b[1;33m\u001b[0m\u001b[1;33m\u001b[0m\u001b[0m\n\u001b[0m\u001b[0;32m      5\u001b[0m \u001b[1;32mimport\u001b[0m \u001b[0mhvplot\u001b[0m\u001b[1;33m.\u001b[0m\u001b[0mpandas\u001b[0m\u001b[1;33m\u001b[0m\u001b[1;33m\u001b[0m\u001b[0m\n\u001b[0;32m      6\u001b[0m \u001b[1;32mimport\u001b[0m \u001b[0mdatetime\u001b[0m \u001b[1;32mas\u001b[0m \u001b[0mdt\u001b[0m\u001b[1;33m\u001b[0m\u001b[1;33m\u001b[0m\u001b[0m\n",
            "\u001b[1;31mModuleNotFoundError\u001b[0m: No module named 'fbprophet'"
          ]
        }
      ],
      "source": [
        "# Import the required libraries and dependencies\n",
        "import pandas as pd\n",
        "import holoviews as hv\n",
        "from fbprophet import Prophet\n",
        "import hvplot.pandas\n",
        "import datetime as dt\n",
        "%matplotlib inline"
      ]
    },
    {
      "cell_type": "markdown",
      "metadata": {
        "id": "gYV1UcSapPoX"
      },
      "source": [
        "## Step 1: Find Unusual Patterns in Hourly Google Search Traffic\n",
        "\n",
        "The data science manager asks if the Google search traffic for the company links to any financial events at the company. Or, does the search traffic data just present random noise? To answer this question, pick out any unusual patterns in the Google search data for the company, and connect them to the corporate financial events.\n",
        "\n",
        "To do so, complete the following steps:\n",
        "\n",
        "1. Read the search data into a DataFrame, and then slice the data to just the month of May 2020. (During this month, MercadoLibre released its quarterly financial results.) Use hvPlot to visualize the results. Do any unusual patterns exist?\n",
        "\n",
        "2. Calculate the total search traffic for the month, and then compare the value to the monthly median across all months. Did the Google search traffic increase during the month that MercadoLibre released its financial results?\n"
      ]
    },
    {
      "cell_type": "markdown",
      "metadata": {
        "id": "VQbnO3-GpPoY"
      },
      "source": [
        "#### Step 1: Read the search data into a DataFrame, and then slice the data to just the month of May 2020. (During this month, MercadoLibre released its quarterly financial results.) Use hvPlot to visualize the results. Do any unusual patterns exist?"
      ]
    },
    {
      "cell_type": "code",
      "execution_count": null,
      "metadata": {
        "id": "RLtFTigZpPoY"
      },
      "outputs": [],
      "source": [
        "# Upload the \"google_hourly_search_trends.csv\" file into Colab, then store in a Pandas DataFrame\n",
        "# Set the \"Date\" column as the Datetime Index.\n",
        "\n",
        "from google.colab import files\n",
        "uploaded = files.upload()\n",
        "\n",
        "data_path = Path(\"Resources/google_hourly_search_trends.csv\")\n",
        "df_mercado_trends = pd.read_csv(data_path, index_col='date', infer_datetime_format=True, parse_dates=True)\n",
        "\n",
        "# Review the first and last five rows of the DataFrame\n",
        "df_mercado_trends.head()\n",
        "df_mercado_trends.tail()"
      ]
    },
    {
      "cell_type": "code",
      "execution_count": null,
      "metadata": {
        "id": "IAB2kG9IpPoY"
      },
      "outputs": [],
      "source": [
        "# Review the data types of the DataFrame using the info function\n",
        "df_mercado_trends.info()\n"
      ]
    },
    {
      "cell_type": "code",
      "execution_count": null,
      "metadata": {
        "id": "mAV0yTRUpPoZ"
      },
      "outputs": [],
      "source": [
        "# Holoviews extension to render hvPlots in Colab\n",
        "hv.extension('bokeh')\n",
        "\n",
        "# Slice the DataFrame to just the month of May 2020\n",
        "df_may_2020 = df_mercado_trends.loc[\"2020-05\"]\n",
        "\n",
        "# Use hvPlot to visualize the data for May 2020\n",
        "df_may_2020[\"Search Trends\"].hvplot()\n"
      ]
    },
    {
      "cell_type": "markdown",
      "metadata": {
        "id": "-SLbZUBnpPoZ"
      },
      "source": [
        "#### Step 2: Calculate the total search traffic for the month, and then compare the value to the monthly median across all months. Did the Google search traffic increase during the month that MercadoLibre released its financial results?"
      ]
    },
    {
      "cell_type": "code",
      "execution_count": null,
      "metadata": {
        "id": "0tyWC55PpPoZ"
      },
      "outputs": [],
      "source": [
        "# Calculate the sum of the total search traffic for May 2020\n",
        "traffic_may_2020 = df_may_2020[\"Search Trends\"].sum()\n",
        "\n",
        "# View the traffic_may_2020 value\n",
        "display(traffic_may_2020)\n"
      ]
    },
    {
      "cell_type": "code",
      "execution_count": null,
      "metadata": {
        "id": "5zbFHVTNpPoa"
      },
      "outputs": [],
      "source": [
        "# Calcluate the monhtly median search traffic across all months \n",
        "# Group the DataFrame by index year and then index month, chain the sum and then the median functions\n",
        "median_monthly_traffic = df_mercado_trends[\"Search Trends\"].groupby(by= [df_mercado_trends.index.year, df_mercado_trends.index.month]).sum().median()\n",
        "\n",
        "# View the median_monthly_traffic value\n",
        "median_monthly_traffic\n"
      ]
    },
    {
      "cell_type": "code",
      "execution_count": null,
      "metadata": {
        "id": "jDv_CaPbpPoa"
      },
      "outputs": [],
      "source": [
        "# Compare the seach traffic for the month of May 2020 to the overall monthly median value\n",
        "may_diff = traffic_may_2020 - median_monthly_traffic\n",
        "display(may_diff)\n"
      ]
    },
    {
      "cell_type": "markdown",
      "metadata": {
        "id": "w0e0xkogpPoa"
      },
      "source": [
        "##### Answer the following question: "
      ]
    },
    {
      "cell_type": "markdown",
      "metadata": {
        "id": "fITmTkrZpPoa"
      },
      "source": [
        "**Question:** Did the Google search traffic increase during the month that MercadoLibre released its financial results?\n",
        "\n",
        "**Answer:** # Google search traffic increased during the month that Mercadolibre released its financial results."
      ]
    },
    {
      "cell_type": "markdown",
      "metadata": {
        "id": "MtYrV4bKpPob"
      },
      "source": [
        "## Step 2: Mine the Search Traffic Data for Seasonality\n",
        "\n",
        "Marketing realizes that they can use the hourly search data, too. If they can track and predict interest in the company and its platform for any time of day, they can focus their marketing efforts around the times that have the most traffic. This will get a greater return on investment (ROI) from their marketing budget.\n",
        "\n",
        "To that end, you want to mine the search traffic data for predictable seasonal patterns of interest in the company. To do so, complete the following steps:\n",
        "\n",
        "1. Group the hourly search data to plot the average traffic by the day of the week (for example, Monday vs. Friday).\n",
        "\n",
        "2. Using hvPlot, visualize this traffic as a heatmap, referencing the `index.hour` as the x-axis and the `index.dayofweek` as the y-axis. Does any day-of-week effect that you observe concentrate in just a few hours of that day?\n",
        "\n",
        "3. Group the search data by the week of the year. Does the search traffic tend to increase during the winter holiday period (weeks 40 through 52)?\n"
      ]
    },
    {
      "cell_type": "markdown",
      "metadata": {
        "id": "LJ2DG1n0pPob"
      },
      "source": [
        "#### Step 1: Group the hourly search data to plot the average traffic by the day of the week (for example, Monday vs. Friday)."
      ]
    },
    {
      "cell_type": "code",
      "execution_count": null,
      "metadata": {
        "id": "nTMPpmTzpPob"
      },
      "outputs": [],
      "source": [
        "# Holoviews extension to render hvPlots in Colab\n",
        "hv.extension('bokeh')\n",
        "\n",
        "# Group the hourly search data to plot (use hvPlot) the average traffic by the day of week \n",
        "average_daily_trafic = df_mercado_trends.groupby(df_mercado_trends.index.dayofweek).mean()\n",
        "display(average_daily_trafic.head())\n",
        "average_daily_trafic.hvplot()"
      ]
    },
    {
      "cell_type": "markdown",
      "metadata": {
        "id": "jtY6CUxSpPoc"
      },
      "source": [
        "#### Step 2: Using hvPlot, visualize this traffic as a heatmap, referencing the `index.hour` as the x-axis and the `index.dayofweek` as the y-axis. Does any day-of-week effect that you observe concentrate in just a few hours of that day?"
      ]
    },
    {
      "cell_type": "code",
      "execution_count": null,
      "metadata": {
        "id": "RE6OqegYpPoc"
      },
      "outputs": [],
      "source": [
        "# Holoviews extension to render hvPlots in Colab\n",
        "hv.extension('bokeh')\n",
        "\n",
        "# Use hvPlot to visualize the hour of the day and day of week search traffic as a heatmap.\n",
        "df_mercado_trends.hvplot.heatmap(\n",
        "    x = \"index.hour\",\n",
        "    y = \"index.dayofweek\",\n",
        "    C = \"Search Trends\",\n",
        "    cmap = \"afmhot\"\n",
        ")"
      ]
    },
    {
      "cell_type": "markdown",
      "metadata": {
        "id": "wTXY9FWdpPoc"
      },
      "source": [
        "##### Answer the following question:"
      ]
    },
    {
      "cell_type": "markdown",
      "metadata": {
        "id": "MyYg4FGDpPoc"
      },
      "source": [
        "**Question:** Does any day-of-week effect that you observe concentrate in just a few hours of that day?\n",
        "\n",
        "**Answer:** Saturday and Sunday tend to have less traffic."
      ]
    },
    {
      "cell_type": "markdown",
      "metadata": {
        "id": "HQo18HFApPoc"
      },
      "source": [
        "#### Step 3: Group the search data by the week of the year. Does the search traffic tend to increase during the winter holiday period (weeks 40 through 52)?"
      ]
    },
    {
      "cell_type": "code",
      "execution_count": null,
      "metadata": {
        "id": "2TnD8KUcpPod"
      },
      "outputs": [],
      "source": [
        "# Holoviews extension to render hvPlots in Colab\n",
        "hv.extension('bokeh')\n",
        "\n",
        "# Group the hourly search data to plot (use hvPlot) the average traffic by the week of the year\n",
        "average_weekly_trafic = df_mercado_trends.groupby(df_mercado_trends.index.weekofyear).mean()\n",
        "display(average_weekly_trafic.head())\n",
        "average_weekly_trafic.hvplot()"
      ]
    },
    {
      "cell_type": "markdown",
      "metadata": {
        "id": "D0JdeAeNpPod"
      },
      "source": [
        "##### Answer the following question:"
      ]
    },
    {
      "cell_type": "markdown",
      "metadata": {
        "id": "sPyNu_wfpPod"
      },
      "source": [
        "**Question:** Does the search traffic tend to increase during the winter holiday period (weeks 40 through 52)?\n",
        "\n",
        "**Answer:** # Traffic increases during winter."
      ]
    },
    {
      "cell_type": "markdown",
      "metadata": {
        "id": "CXhqWFfnpPod"
      },
      "source": [
        "## Step 3: Relate the Search Traffic to Stock Price Patterns\n",
        "\n",
        "You mention your work on the search traffic data during a meeting with people in the finance group at the company. They want to know if any relationship between the search data and the company stock price exists, and they ask if you can investigate.\n",
        "\n",
        "To do so, complete the following steps:\n",
        "\n",
        "1. Read in and plot the stock price data. Concatenate the stock price data to the search data in a single DataFrame.\n",
        "\n",
        "2. Market events emerged during the year of 2020 that many companies found difficult. But, after the initial shock to global financial markets, new customers and revenue increased for e-commerce platforms. Slice the data to just the first half of 2020 (`2020-01` to `2020-06` in the DataFrame), and then use hvPlot to plot the data. Do both time series indicate a common trend that’s consistent with this narrative?\n",
        "\n",
        "3. Create a new column in the DataFrame named “Lagged Search Trends” that offsets, or shifts, the search traffic by one hour. Create two additional columns:\n",
        "\n",
        "    * “Stock Volatility”, which holds an exponentially weighted four-hour rolling average of the company’s stock volatility\n",
        "\n",
        "    * “Hourly Stock Return”, which holds the percent change of the company's stock price on an hourly basis\n",
        "\n",
        "4. Review the time series correlation, and then answer the following question: Does a predictable relationship exist between the lagged search traffic and the stock volatility or between the lagged search traffic and the stock price returns?\n"
      ]
    },
    {
      "cell_type": "markdown",
      "metadata": {
        "id": "DOAkss7xpPoe"
      },
      "source": [
        "#### Step 1: Read in and plot the stock price data. Concatenate the stock price data to the search data in a single DataFrame."
      ]
    },
    {
      "cell_type": "code",
      "execution_count": null,
      "metadata": {
        "id": "xHsKMIm1pPoe"
      },
      "outputs": [],
      "source": [
        "# Upload the \"mercado_stock_price.csv\" file into Colab, then store in a Pandas DataFrame\n",
        "# Set the \"date\" column as the Datetime Index.\n",
        "from google.colab import files\n",
        "uploaded = files.upload()\n",
        "\n",
        "df_mercado_stock = pd.read_csv(\"mercado_stock_price.csv\", \n",
        "index_col=\"date\", \n",
        "parse_dates=True, \n",
        "infer_datetime_format=True)\n",
        "\n",
        "# View the first and last five rows of the DataFrame\n",
        "display(df_mercado_stock.head())\n",
        "display(df_mercado_stock.tail())\n"
      ]
    },
    {
      "cell_type": "code",
      "execution_count": null,
      "metadata": {
        "id": "Cv7aF0L_pPoe"
      },
      "outputs": [],
      "source": [
        "# Holoviews extension to render hvPlots in Colab\n",
        "hv.extension('bokeh')\n",
        "\n",
        "# Use hvPlot to visualize the closing price of the df_mercado_stock DataFrame\n",
        "df_mercado_stock.hvplot()\n"
      ]
    },
    {
      "cell_type": "code",
      "execution_count": null,
      "metadata": {
        "id": "zq2o2YUZpPoe"
      },
      "outputs": [],
      "source": [
        "# Concatenate the df_mercado_stock DataFrame with the df_mercado_trends DataFrame\n",
        "# Concatenate the DataFrame by columns (axis=1), and drop and rows with only one column of data\n",
        "mercado_stock_trends_df = pd.concat([df_mercado_stock, df_mercado_trends], axis=1). dropna()\n",
        "\n",
        "# View the first and last five rows of the DataFrame\n",
        "display(mercado_stock_trends_df.head())\n",
        "display(mercado_stock_trends_df.tail())\n"
      ]
    },
    {
      "cell_type": "markdown",
      "metadata": {
        "id": "aH0eg-KkpPoe"
      },
      "source": [
        "#### Step 2: Market events emerged during the year of 2020 that many companies found difficult. But, after the initial shock to global financial markets, new customers and revenue increased for e-commerce platforms. Slice the data to just the first half of 2020 (`2020-01` to `2020-06` in the DataFrame), and then use hvPlot to plot the data. Do both time series indicate a common trend that’s consistent with this narrative?"
      ]
    },
    {
      "cell_type": "code",
      "execution_count": null,
      "metadata": {
        "id": "-Wl4NHrCpPof"
      },
      "outputs": [],
      "source": [
        "# For the combined dataframe, slice to just the first half of 2020 (2020-01 through 2020-06) \n",
        "first_half_2020 = mercado_stock_trends_df.loc[\"2020-01\":\"2020-06\"]\n",
        "\n",
        "# View the first and last five rows of first_half_2020 DataFrame\n",
        "display(first_half_2020.head())\n",
        "display(first_half_2020.tail())"
      ]
    },
    {
      "cell_type": "code",
      "execution_count": null,
      "metadata": {
        "id": "zceM46UZpPof"
      },
      "outputs": [],
      "source": [
        "# Holoviews extension to render hvPlots in Colab\n",
        "hv.extension('bokeh')\n",
        "\n",
        "# Use hvPlot to visualize the close and Search Trends data\n",
        "# Plot each column on a separate axes using the following syntax\n",
        "# `hvplot(shared_axes=False, subplots=True).cols(1)`\n",
        "first_half_2020.hvplot(shared_axes=False, subplots=True).cols(1)\n"
      ]
    },
    {
      "cell_type": "markdown",
      "metadata": {
        "id": "r-91prHQpPof"
      },
      "source": [
        "##### Answer the following question:"
      ]
    },
    {
      "cell_type": "markdown",
      "metadata": {
        "id": "296SPzBppPof"
      },
      "source": [
        "**Question:** Do both time series indicate a common trend that’s consistent with this narrative?\n",
        "\n",
        "**Answer:** Yes, both time series indicate a common trend that's consistent with this narrative."
      ]
    },
    {
      "cell_type": "markdown",
      "metadata": {
        "id": "5EMUeByspPog"
      },
      "source": [
        "#### Step 3: Create a new column in the DataFrame named “Lagged Search Trends” that offsets, or shifts, the search traffic by one hour. Create two additional columns:\n",
        "\n",
        "* “Stock Volatility”, which holds an exponentially weighted four-hour rolling average of the company’s stock volatility\n",
        "\n",
        "* “Hourly Stock Return”, which holds the percent change of the company's stock price on an hourly basis\n"
      ]
    },
    {
      "cell_type": "code",
      "execution_count": null,
      "metadata": {
        "id": "DOIjyQJlpPog"
      },
      "outputs": [],
      "source": [
        "# Create a new column in the mercado_stock_trends_df DataFrame called Lagged Search Trends\n",
        "# This column should shift the Search Trends information by one hour\n",
        "mercado_stock_trends_df['Lagged Search Trends'] = mercado_stock_trends_df['Lagged Search Trends'] = mercado_stock_trends_df[\"Search Trends\"].shift(1)\n"
      ]
    },
    {
      "cell_type": "code",
      "execution_count": null,
      "metadata": {
        "id": "HLIHbRvSpPog"
      },
      "outputs": [],
      "source": [
        "# Create a new column in the mercado_stock_trends_df DataFrame called Stock Volatility\n",
        "# This column should calculate the standard deviation of the closing stock price return data over a 4 period rolling window\n",
        "mercado_stock_trends_df['Stock Volatility'] = mercado_stock_trends_df['Stock Volatility'] = mercado_stock_trends_df[\"close\"].rolling(4).std()\n"
      ]
    },
    {
      "cell_type": "code",
      "execution_count": null,
      "metadata": {
        "id": "kDB0_NjbpPog"
      },
      "outputs": [],
      "source": [
        "# Holoviews extension to render hvPlots in Colab\n",
        "hv.extension('bokeh')\n",
        "\n",
        "# Use hvPlot to visualize the stock volatility\n",
        "mercado_stock_trends_df[\"Stock Volatility\"].hvplot()\n"
      ]
    },
    {
      "cell_type": "markdown",
      "metadata": {
        "id": "3SJB5HdTpPog"
      },
      "source": [
        "**Solution Note:** Note how volatility spiked, and tended to stay high, during the first half of 2020. This is a common characteristic of volatility in stock returns worldwide: high volatility days tend to be followed by yet more high volatility days. When it rains, it pours."
      ]
    },
    {
      "cell_type": "code",
      "execution_count": null,
      "metadata": {
        "id": "1st-2vAwpPog"
      },
      "outputs": [],
      "source": [
        "# Create a new column in the mercado_stock_trends_df DataFrame called Hourly Stock Return\n",
        "# This column should calculate hourly return percentage of the closing price\n",
        "mercado_stock_trends_df['Hourly Stock Return'] = mercado_stock_trends_df['Hourly Stock Return'] = mercado_stock_trends_df[\"close\"].pct_change()\n"
      ]
    },
    {
      "cell_type": "code",
      "execution_count": null,
      "metadata": {
        "id": "p4CU2phLpPoh"
      },
      "outputs": [],
      "source": [
        "# View the first and last five rows of the mercado_stock_trends_df DataFrame\n",
        "display(mercado_stock_trends_df.head())\n",
        "display(mercado_stock_trends_df.tail())"
      ]
    },
    {
      "cell_type": "markdown",
      "metadata": {
        "id": "oyqoYQSopPoh"
      },
      "source": [
        "#### Step 4: Review the time series correlation, and then answer the following question: Does a predictable relationship exist between the lagged search traffic and the stock volatility or between the lagged search traffic and the stock price returns?"
      ]
    },
    {
      "cell_type": "code",
      "execution_count": null,
      "metadata": {
        "id": "dl2JMccMpPoh"
      },
      "outputs": [],
      "source": [
        "# Construct correlation table of Stock Volatility, Lagged Search Trends, and Hourly Stock Return\n",
        "mercado_stock_trends_df[[\"Stock Volatility\", \"Lagged Search Trends\", \"Hourly Stock Return\"]].corr()"
      ]
    },
    {
      "cell_type": "markdown",
      "metadata": {
        "id": "nfzspj29pPoh"
      },
      "source": [
        "##### Answer the following question:\n"
      ]
    },
    {
      "cell_type": "markdown",
      "metadata": {
        "id": "8Z-6a9PlpPoh"
      },
      "source": [
        "**Question:** Does a predictable relationship exist between the lagged search traffic and the stock volatility or between the lagged search traffic and the stock price returns?\n",
        "\n",
        "**Answer:** # YOUR ANSWER HERE"
      ]
    },
    {
      "cell_type": "markdown",
      "metadata": {
        "id": "xBjdI2vDpPoh"
      },
      "source": [
        "## Step 4: Create a Time Series Model with Prophet\n",
        "\n",
        "Now, you need to produce a time series model that analyzes and forecasts patterns in the hourly search data. To do so, complete the following steps:\n",
        "\n",
        "1. Set up the Google search data for a Prophet forecasting model.\n",
        "\n",
        "2. After estimating the model, plot the forecast. How's the near-term forecast for the popularity of MercadoLibre?\n",
        "\n",
        "3. Plot the individual time series components of the model to answer the following questions:\n",
        "\n",
        "    * What time of day exhibits the greatest popularity?\n",
        "\n",
        "    * Which day of the week gets the most search traffic?\n",
        "\n",
        "    * What's the lowest point for search traffic in the calendar year?\n"
      ]
    },
    {
      "cell_type": "markdown",
      "metadata": {
        "id": "pIYiHpespPoh"
      },
      "source": [
        "#### Step 1: Set up the Google search data for a Prophet forecasting model."
      ]
    },
    {
      "cell_type": "code",
      "execution_count": null,
      "metadata": {
        "id": "9w_85QB2pPoh"
      },
      "outputs": [],
      "source": [
        "# Using the df_mercado_trends DataFrame, reset the index so the date information is no longer the index\n",
        "mercado_prophet_df = # YOUR CODE HERE\n",
        "\n",
        "# Label the columns ds and y so that the syntax is recognized by Prophet\n",
        "# YOUR CODE HERE\n",
        "\n",
        "# Drop an NaN values from the prophet_df DataFrame\n",
        "mercado_prophet_df = # YOUR CODE HERE\n",
        "\n",
        "# View the first and last five rows of the mercado_prophet_df DataFrame\n",
        "# YOUR CODE HERE\n"
      ]
    },
    {
      "cell_type": "code",
      "execution_count": null,
      "metadata": {
        "id": "X3ZKBN97pPoi"
      },
      "outputs": [],
      "source": [
        "# Call the Prophet function, store as an object\n",
        "model_mercado_trends = # YOUR CODE HERE\n"
      ]
    },
    {
      "cell_type": "code",
      "execution_count": null,
      "metadata": {
        "id": "cm2VbdMSpPoi"
      },
      "outputs": [],
      "source": [
        "# Fit the time-series model.\n",
        "# YOUR CODE HERE\n"
      ]
    },
    {
      "cell_type": "code",
      "execution_count": null,
      "metadata": {
        "id": "Mf9eBCz0pPoi"
      },
      "outputs": [],
      "source": [
        "# Create a future dataframe to hold predictions\n",
        "# Make the prediction go out as far as 2000 hours (approx 80 days)\n",
        "future_mercado_trends = # YOUR CODE HERE\n",
        "\n",
        "# View the last five rows of the future_mercado_trends DataFrame\n",
        "# YOUR CODE HERE\n"
      ]
    },
    {
      "cell_type": "code",
      "execution_count": null,
      "metadata": {
        "id": "vQKXRLOjpPoi"
      },
      "outputs": [],
      "source": [
        "# Make the predictions for the trend data using the future_mercado_trends DataFrame\n",
        "forecast_mercado_trends = # YOUR CODE HERE\n",
        "\n",
        "# Display the first five rows of the forecast_mercado_trends DataFrame\n",
        "# YOUR CODE HERE\n"
      ]
    },
    {
      "cell_type": "markdown",
      "metadata": {
        "id": "f3ij-X31pPoi"
      },
      "source": [
        "#### Step 2: After estimating the model, plot the forecast. How's the near-term forecast for the popularity of MercadoLibre?"
      ]
    },
    {
      "cell_type": "code",
      "execution_count": null,
      "metadata": {
        "id": "xy9Sd-CspPoi"
      },
      "outputs": [],
      "source": [
        "# Plot the Prophet predictions for the Mercado trends data\n",
        "# YOUR CODE HERE"
      ]
    },
    {
      "cell_type": "markdown",
      "metadata": {
        "id": "_ADpsR0spPoj"
      },
      "source": [
        "##### Answer the following question:"
      ]
    },
    {
      "cell_type": "markdown",
      "metadata": {
        "id": "4KX1dVPbpPoj"
      },
      "source": [
        "**Question:**  How's the near-term forecast for the popularity of MercadoLibre?\n",
        "\n",
        "**Answer:** # YOUR ANSWER HERE\n"
      ]
    },
    {
      "cell_type": "markdown",
      "metadata": {
        "id": "SvuXBqNPpPoj"
      },
      "source": [
        "#### Step 3: Plot the individual time series components of the model to answer the following questions:\n",
        "\n",
        "* What time of day exhibits the greatest popularity?\n",
        "\n",
        "* Which day of the week gets the most search traffic?\n",
        "\n",
        "* What's the lowest point for search traffic in the calendar year?\n"
      ]
    },
    {
      "cell_type": "code",
      "execution_count": null,
      "metadata": {
        "id": "cBVak_JwpPoj"
      },
      "outputs": [],
      "source": [
        "# Set the index in the forecast_mercado_trends DataFrame to the ds datetime column\n",
        "forecast_mercado_trends = # YOUR CODE HERE\n",
        "\n",
        "# View the only the yhat,yhat_lower and yhat_upper columns from the DataFrame\n",
        "# YOUR CODE HERE\n"
      ]
    },
    {
      "cell_type": "markdown",
      "metadata": {
        "id": "JxAIMN1EpPoj"
      },
      "source": [
        "Solutions Note: `yhat` represents the most likely (average) forecast, whereas `yhat_lower` and `yhat_upper` represents the worst and best case prediction (based on what are known as 95% confidence intervals)."
      ]
    },
    {
      "cell_type": "code",
      "execution_count": null,
      "metadata": {
        "id": "Y5iFbMLlpPoj"
      },
      "outputs": [],
      "source": [
        "# Holoviews extension to render hvPlots in Colab\n",
        "hv.extension('bokeh')\n",
        "\n",
        "# From the forecast_mercado_trends DataFrame, use hvPlot to visualize\n",
        "#  the yhat, yhat_lower, and yhat_upper columns over the last 2000 hours \n",
        "# YOUR CODE HERE\n"
      ]
    },
    {
      "cell_type": "code",
      "execution_count": null,
      "metadata": {
        "id": "v4OK-MWRpPoj"
      },
      "outputs": [],
      "source": [
        "# Reset the index in the forecast_mercado_trends DataFrame\n",
        "forecast_mercado_trends = # YOUR CODE HERE\n",
        "\n",
        "# Use the plot_components function to visualize the forecast results \n",
        "# for the forecast_canada DataFrame \n",
        "figures_mercado_trends = # YOUR CODE HERE\n"
      ]
    },
    {
      "cell_type": "markdown",
      "metadata": {
        "id": "MbFCqM1WpPok"
      },
      "source": [
        "##### Answer the following questions:"
      ]
    },
    {
      "cell_type": "markdown",
      "metadata": {
        "id": "tU9OYOKDpPok"
      },
      "source": [
        "**Question:** What time of day exhibits the greatest popularity?\n",
        "\n",
        "**Answer:** # YOUR ANSWER HERE"
      ]
    },
    {
      "cell_type": "markdown",
      "metadata": {
        "id": "UKIerDo5pPok"
      },
      "source": [
        "**Question:** Which day of week gets the most search traffic? \n",
        "   \n",
        "**Answer:** # YOUR ANSWER HERE"
      ]
    },
    {
      "cell_type": "markdown",
      "metadata": {
        "id": "7CnCcmLMpPok"
      },
      "source": [
        "**Question:** What's the lowest point for search traffic in the calendar year?\n",
        "\n",
        "**Answer:** # YOUR ANSWER HERE\n"
      ]
    },
    {
      "cell_type": "markdown",
      "metadata": {
        "id": "Q2XDxPV7pPok"
      },
      "source": [
        "## Step 5 (Optional): Forecast Revenue by Using Time Series Models\n",
        "\n",
        "A few weeks after your initial analysis, the finance group follows up to find out if you can help them solve a different problem. Your fame as a growth analyst in the company continues to grow!\n",
        "\n",
        "Specifically, the finance group wants a forecast of the total sales for the next quarter. This will dramatically increase their ability to plan budgets and to help guide expectations for the company investors.\n",
        "\n",
        "To do so, complete the following steps:\n",
        "\n",
        "1. Read in the daily historical sales (that is, revenue) figures, and then apply a Prophet model to the data. The daily sales figures are quoted in millions of USD dollars.\n",
        "\n",
        "2. Interpret the model output to identify any seasonal patterns in the company's revenue. For example, what are the peak revenue days? (Mondays? Fridays? Something else?)\n",
        "\n",
        "3. Produce a sales forecast for the finance group. Give them a number for the expected total sales in the next quarter. Include the best- and worst-case scenarios to help them make better plans.\n",
        "\n",
        "\n"
      ]
    },
    {
      "cell_type": "markdown",
      "metadata": {
        "id": "DAX3paFfpPok"
      },
      "source": [
        "#### Step 1: Read in the daily historical sales (that is, revenue) figures, and then apply a Prophet model to the data."
      ]
    },
    {
      "cell_type": "code",
      "execution_count": 1,
      "metadata": {
        "colab": {
          "base_uri": "https://localhost:8080/",
          "height": 138
        },
        "id": "lK4vFWqnpPok",
        "outputId": "c984eda4-bf81-4530-da8a-fc7db7e2dd2d"
      },
      "outputs": [
        {
          "output_type": "error",
          "ename": "SyntaxError",
          "evalue": "ignored",
          "traceback": [
            "\u001b[0;36m  File \u001b[0;32m\"<ipython-input-1-d234d6d4a339>\"\u001b[0;36m, line \u001b[0;32m7\u001b[0m\n\u001b[0;31m    df_mercado_sales = # YOUR CODE HERE\u001b[0m\n\u001b[0m                                       ^\u001b[0m\n\u001b[0;31mSyntaxError\u001b[0m\u001b[0;31m:\u001b[0m invalid syntax\n"
          ]
        }
      ],
      "source": [
        "# Upload the \"mercado_daily_revenue.csv\" file into Colab, then store in a Pandas DataFrame\n",
        "# Set the \"date\" column as the DatetimeIndex\n",
        "# Sales are quoted in millions of US dollars\n",
        "from google.colab import files\n",
        "uploaded = files.upload()\n",
        "\n",
        "df_mercado_sales = # YOUR CODE HERE\n",
        "\n",
        "# Review the DataFrame\n",
        "# YOUR CODE HERE\n"
      ]
    },
    {
      "cell_type": "code",
      "execution_count": null,
      "metadata": {
        "id": "78dAEHampPok"
      },
      "outputs": [],
      "source": [
        "# Holoviews extension to render hvPlots in Colab\n",
        "hv.extension('bokeh')\n",
        "\n",
        "# Use hvPlot to visualize the daily sales figures \n",
        "# YOUR CODE HERE\n"
      ]
    },
    {
      "cell_type": "code",
      "execution_count": null,
      "metadata": {
        "id": "2rI57A8ypPol"
      },
      "outputs": [],
      "source": [
        "# Apply a Facebook Prophet model to the data.\n",
        "\n",
        "# Set up the dataframe in the neccessary format:\n",
        "# Reset the index so that date becomes a column in the DataFrame\n",
        "mercado_sales_prophet_df = # YOUR CODE HERE\n",
        "\n",
        "# Adjust the columns names to the Prophet syntax\n",
        "mercado_sales_prophet_df.columns = # YOUR CODE HERE\n",
        "\n",
        "# Visualize the DataFrame\n",
        "# YOUR CODE HERE\n"
      ]
    },
    {
      "cell_type": "code",
      "execution_count": null,
      "metadata": {
        "id": "8GNpIsxkpPol"
      },
      "outputs": [],
      "source": [
        "# Create the model\n",
        "mercado_sales_prophet_model = # YOUR CODE HERE\n",
        "\n",
        "# Fit the model\n",
        "# YOUR CODE HERE\n"
      ]
    },
    {
      "cell_type": "code",
      "execution_count": null,
      "metadata": {
        "id": "akSsGQcSpPol"
      },
      "outputs": [],
      "source": [
        "# Predict sales for 90 days (1 quarter) out into the future.\n",
        "\n",
        "# Start by making a future dataframe\n",
        "mercado_sales_prophet_future = # YOUR CODE HERE\n",
        "\n",
        "# Display the last five rows of the future DataFrame\n",
        "# YOUR CODE HERE\n"
      ]
    },
    {
      "cell_type": "code",
      "execution_count": null,
      "metadata": {
        "id": "MecA8EDGpPol"
      },
      "outputs": [],
      "source": [
        "# Make predictions for the sales each day over the next quarter\n",
        "mercado_sales_prophet_forecast = # YOUR CODE HERE\n",
        "\n",
        "# Display the first 5 rows of the resulting DataFrame\n",
        "# YOUR CODE HERE\n"
      ]
    },
    {
      "cell_type": "markdown",
      "metadata": {
        "id": "TZEiJFMtpPol"
      },
      "source": [
        "#### Step 2: Interpret the model output to identify any seasonal patterns in the company's revenue. For example, what are the peak revenue days? (Mondays? Fridays? Something else?)"
      ]
    },
    {
      "cell_type": "code",
      "execution_count": null,
      "metadata": {
        "id": "eVkyL4mfpPol"
      },
      "outputs": [],
      "source": [
        "# Use the plot_components function to analyze seasonal patterns in the company's revenue\n",
        "# YOUR CODE HERE\n"
      ]
    },
    {
      "cell_type": "markdown",
      "metadata": {
        "id": "UgHC5OYPpPol"
      },
      "source": [
        "##### Answer the following question:"
      ]
    },
    {
      "cell_type": "markdown",
      "metadata": {
        "id": "O-eSJt6gpPom"
      },
      "source": [
        "**Question:** For example, what are the peak revenue days? (Mondays? Fridays? Something else?)\n",
        "\n",
        "**Answer:** # YOUR ANSWER HERE"
      ]
    },
    {
      "cell_type": "markdown",
      "metadata": {
        "id": "_xonidGmpPom"
      },
      "source": [
        "#### Step 3: Produce a sales forecast for the finance group. Give them a number for the expected total sales in the next quarter. Include the best- and worst-case scenarios to help them make better plans."
      ]
    },
    {
      "cell_type": "code",
      "execution_count": null,
      "metadata": {
        "id": "LWjAEM8LpPom"
      },
      "outputs": [],
      "source": [
        "# Plot the predictions for the Mercado sales\n",
        "# YOUR CODE HERE\n"
      ]
    },
    {
      "cell_type": "code",
      "execution_count": null,
      "metadata": {
        "id": "1KNlZH0JpPom"
      },
      "outputs": [],
      "source": [
        "# For the mercado_sales_prophet_forecast DataFrame, set the ds column as the DataFrame Index\n",
        "mercado_sales_prophet_forecast = # YOUR CODE HERE\n",
        "\n",
        "# Display the first and last five rows of the DataFrame\n",
        "# YOUR CODE HERE\n"
      ]
    },
    {
      "cell_type": "code",
      "execution_count": null,
      "metadata": {
        "id": "9HtZsyt3pPom"
      },
      "outputs": [],
      "source": [
        "# Produce a sales forecast for the finance division\n",
        "# giving them a number for expected total sales next quarter.\n",
        "# Provide best case (yhat_upper), worst case (yhat_lower), and most likely (yhat) scenarios.\n",
        "\n",
        "# Create a forecast_quarter Dataframe for the period 2020-07-01 to 2020-09-30\n",
        "# The DataFrame should include the columns yhat_upper, yhat_lower, and yhat\n",
        "mercado_sales_forecast_quarter = # YOUR CODE HERE\n",
        "\n",
        "# Update the column names for the forecast_quarter DataFrame\n",
        "# to match what the finance division is looking for \n",
        "mercado_sales_forecast_quarter = # YOUR CODE HERE\n",
        "\n",
        "# Review the last five rows of the DataFrame\n",
        "# YOUR CODE HERE\n"
      ]
    },
    {
      "cell_type": "code",
      "execution_count": null,
      "metadata": {
        "id": "gQe6EZ3epPom"
      },
      "outputs": [],
      "source": [
        "# Displayed the summed values for all the rows in the forecast_quarter DataFrame\n",
        "# YOUR CODE HERE\n"
      ]
    },
    {
      "cell_type": "markdown",
      "metadata": {
        "id": "XlA1ZMmZpPom"
      },
      "source": [
        "### Based on the forecast information generated above, produce a sales forecast for the finance division, giving them a number for expected total sales next quarter. Include best and worst case scenarios, to better help the finance team plan.\n",
        "\n",
        "**Answer:** # YOUR ANSWER HERE"
      ]
    },
    {
      "cell_type": "code",
      "execution_count": null,
      "metadata": {
        "id": "Im7jlacvpPom"
      },
      "outputs": [],
      "source": [
        ""
      ]
    }
  ],
  "metadata": {
    "interpreter": {
      "hash": "19e8989aa3860df68a863f1588d3224aff2bcab6c36efaf4301abe79e1a8b3d9"
    },
    "kernelspec": {
      "display_name": "Python (dev)",
      "language": "python",
      "name": "dev"
    },
    "language_info": {
      "codemirror_mode": {
        "name": "ipython",
        "version": 3
      },
      "file_extension": ".py",
      "mimetype": "text/x-python",
      "name": "python",
      "nbconvert_exporter": "python",
      "pygments_lexer": "ipython3",
      "version": "3.7.11"
    },
    "colab": {
      "name": "forecasting_net_prophet.ipynb",
      "provenance": [],
      "include_colab_link": true
    }
  },
  "nbformat": 4,
  "nbformat_minor": 0
}